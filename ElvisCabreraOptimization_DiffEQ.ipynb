{
 "cells": [
  {
   "cell_type": "markdown",
   "metadata": {},
   "source": [
    "# Optimization and Differential Equation"
   ]
  },
  {
   "cell_type": "markdown",
   "metadata": {},
   "source": [
    "I can use scipy.optimize to optimize the dimensions of a rectangular box without a lid while keeping the surface area fixed. I will need the equation of a rectangular box with the height, length, and width as parameters to be determined. The surface area will be used to find the dimensions because there is only so much 'cardboard' (surface area) to be used.\n",
    "\n",
    "I would also like to use odeint to solve the differential equation for a non-steady state oscillation. I will plot the behavior of a linear oscillator subjected to a quick, discontinuous force. This impulsive force can be from a step or spike (delta function). The time evolution of the oscillator after the impulsive force (whichever one it may have been) follow a similar damped sinusoidal curve with the amplitude decreasing as time progresses.  \n"
   ]
  },
  {
   "cell_type": "markdown",
   "metadata": {},
   "source": [
    "## Box without the lid"
   ]
  },
  {
   "cell_type": "markdown",
   "metadata": {},
   "source": [
    "### Importing Packages"
   ]
  },
  {
   "cell_type": "code",
   "execution_count": 1,
   "metadata": {},
   "outputs": [],
   "source": [
    "import numpy as np\n",
    "from scipy.optimize import minimize"
   ]
  },
  {
   "cell_type": "markdown",
   "metadata": {},
   "source": [
    "### Main code"
   ]
  },
  {
   "cell_type": "code",
   "execution_count": 2,
   "metadata": {},
   "outputs": [],
   "source": [
    "def volume(x):   # defining a function for volume\n",
    "    X = x[0]\n",
    "    y = x[1]\n",
    "    z = x[2]\n",
    "    V = X*y*z \n",
    "    return V\n",
    "\n",
    "def surface(x): # defining a function for surface area\n",
    "    X = x[0]\n",
    "    y = x[1]\n",
    "    z = x[2]\n",
    "    SA = 2*X*z + 2*y*z + X*y\n",
    "    return SA\n",
    "\n",
    "def objective(x):\n",
    "    return -volume(x)  # negative because I wish to maximize volume\n",
    "\n",
    "\n",
    "def constraint(x):\n",
    "    return surface(x) - 100   # constraining surface to 100 units squared\n",
    "\n",
    "cons = ({'type': 'eq', 'fun': constraint})\n",
    "\n",
    "x0 = np.array([1, 2,3]) # initial conditions, taking a guess at the answer\n",
    "\n",
    "solution = minimize(objective,x0,method='SLSQP',constraints=cons)\n"
   ]
  },
  {
   "cell_type": "code",
   "execution_count": 3,
   "metadata": {},
   "outputs": [
    {
     "name": "stdout",
     "output_type": "stream",
     "text": [
      "     fun: -96.22504482992933\n",
      "     jac: array([-16.66663074, -16.6666584 , -33.33342552])\n",
      " message: 'Optimization terminated successfully.'\n",
      "    nfev: 63\n",
      "     nit: 12\n",
      "    njev: 12\n",
      "  status: 0\n",
      " success: True\n",
      "       x: array([5.77351555, 5.77350579, 2.88674336])\n"
     ]
    }
   ],
   "source": [
    "print(solution)"
   ]
  },
  {
   "cell_type": "markdown",
   "metadata": {},
   "source": [
    "#### x: array([5.77351555, 5.77350579, 2.88674336]) shows the value of x, y, and z respectively"
   ]
  },
  {
   "cell_type": "markdown",
   "metadata": {},
   "source": [
    "### A more compact code"
   ]
  },
  {
   "cell_type": "code",
   "execution_count": 7,
   "metadata": {},
   "outputs": [],
   "source": [
    "def objective(x):  # function that returns the volume\n",
    "    X = x[0]\n",
    "    y = x[1]\n",
    "    z = x[2]\n",
    "    return -X*y*z # negative to maximize\n",
    "def constraint(x):  # constraint the surface area to be less than 100\n",
    "    return 2*x[0]*x[2] + 2*x[1]*x[2] + x[0]*x[1] - 100\n",
    "\n",
    "x0 = [12,10,11]  # initital guess\n",
    "\n",
    "cons = [{'type': 'eq', 'fun': constraint}]  # dictionary\n",
    "solution2 = minimize(objective,x0,method='SLSQP',constraints=cons)"
   ]
  },
  {
   "cell_type": "markdown",
   "metadata": {},
   "source": [
    "#### In the above code I eliminated the volume() and surface() functions. My objective() function returns the volume and the constraint function returns the surface area constrained to be below 100. I already knew what the solution is for the parameters so I decided to guess the lengths away from the true value. I obtained the same values as before. "
   ]
  },
  {
   "cell_type": "code",
   "execution_count": 8,
   "metadata": {},
   "outputs": [
    {
     "name": "stdout",
     "output_type": "stream",
     "text": [
      "     fun: -96.22504483979922\n",
      "     jac: array([-16.66667366, -16.66668034, -33.33329582])\n",
      " message: 'Optimization terminated successfully.'\n",
      "    nfev: 77\n",
      "     nit: 15\n",
      "    njev: 15\n",
      "  status: 0\n",
      " success: True\n",
      "       x: array([5.77350067, 5.77349821, 2.8867546 ])\n"
     ]
    }
   ],
   "source": [
    "print(solution2)"
   ]
  },
  {
   "cell_type": "markdown",
   "metadata": {},
   "source": [
    "## Response to an impulse function"
   ]
  },
  {
   "cell_type": "markdown",
   "metadata": {},
   "source": [
    "### Importing Packages"
   ]
  },
  {
   "cell_type": "code",
   "execution_count": 9,
   "metadata": {},
   "outputs": [],
   "source": [
    "import numpy as np\n",
    "import matplotlib.pyplot as plt\n",
    "from scipy.integrate import odeint"
   ]
  },
  {
   "cell_type": "markdown",
   "metadata": {},
   "source": [
    "### Main code"
   ]
  },
  {
   "cell_type": "code",
   "execution_count": 10,
   "metadata": {},
   "outputs": [],
   "source": [
    "#   x == x[0]\n",
    "#   x' = xdot == x[1] \n",
    "#    x'' = xddot == ddx\n",
    "#   x'' + 2*Bx' +omega^2 * x = 0_____________ where B < omega\n",
    "#   x'' = ddx = -2x' + omega^2 * x = 0\n",
    "#   x(t) =  coswt*exp(-B*t)\n",
    "#   w = sqrt{omega^2 - B^2} = 3.87 rad/s\n",
    "#   omega = 4 rad/s\n",
    "#   B = 1\n",
    "#   \n",
    "def xddot(x, t):   # This function will return [xdot, xddot]. The sequential, differentiated points.\n",
    "    xdot = x[1]\n",
    "\n",
    "    ddx = -2*x[1] - 16*np.cos(3.87*t)*np.exp(-t)   # x'' =  - 2*Bx' - omega^2 * x\n",
    "    return[xdot,ddx]                               # x = x(t) =  coswt*exp(-B*t) \n",
    "\n",
    "x0 = [0,0]      # initial condition\n",
    "t = np.linspace(0, 5, 200) # time interval\n",
    "diff = odeint(xddot,x0, t)   \n",
    "A = diff[:,0]"
   ]
  },
  {
   "cell_type": "code",
   "execution_count": 11,
   "metadata": {},
   "outputs": [
    {
     "data": {
      "image/png": "[encoded data removed]",
      "text/plain": [
       "<Figure size 432x288 with 1 Axes>"
      ]
     },
     "metadata": {
      "needs_background": "light"
     },
     "output_type": "display_data"
    }
   ],
   "source": [
    "plt.xlabel(\"Time\")\n",
    "plt.ylabel(\"Amplitude\")\n",
    "plt.title(\"Response function solution to an impulsive function\")\n",
    "plt.plot(t,A);"
   ]
  },
  {
   "cell_type": "markdown",
   "metadata": {},
   "source": [
    "The  above  plot  shows  the  time  evolution  of  a  damped  harmonic\n",
    "oscillator that came into contact with a short lived, discontinuos driving force"
   ]
  },
  {
   "cell_type": "markdown",
   "metadata": {},
   "source": [
    "Initially, I wanted to solve the second order differential equation for a damped oscillator in response to a forcing function in the form of a Dirac delta function. I tried using the special function scipy.signal.unit_impulse(shape, idx=None, dtype=<class 'float'>) from SciPy, but odeint cannot differentiate a broken function. Odeint differentiates continuous functions. I decided to plug in the general solution for x(t) into the second order differential equation. The general form is a product of an exponential and a sinusoidal function of time. I set the forcing function to zero because I am interested in the motion of the oscillator after the impulse.\n"
   ]
  },
  {
   "cell_type": "code",
   "execution_count": null,
   "metadata": {},
   "outputs": [],
   "source": []
  }
 ],
 "metadata": {
  "kernelspec": {
   "display_name": "Python 3",
   "language": "python",
   "name": "python3"
  },
  "language_info": {
   "codemirror_mode": {
    "name": "ipython",
    "version": 3
   },
   "file_extension": ".py",
   "mimetype": "text/x-python",
   "name": "python",
   "nbconvert_exporter": "python",
   "pygments_lexer": "ipython3",
   "version": "3.7.1"
  }
 },
 "nbformat": 4,
 "nbformat_minor": 2
}
